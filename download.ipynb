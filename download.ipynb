{
 "cells": [
  {
   "cell_type": "code",
   "execution_count": 4,
   "id": "6c81b1e2-a3b9-4fc1-b5ee-4461dc9a57ee",
   "metadata": {},
   "outputs": [],
   "source": [
    "import re\n",
    "import requests\n",
    "import base64\n",
    "import ipywidgets as w\n",
    "from ipyautoui.custom.filedownload import trigger_download, FILEDNLD_BUTTON_KWARGS"
   ]
  },
  {
   "cell_type": "code",
   "execution_count": 7,
   "id": "45a3d2e3-99fb-43c5-b7ca-222b549bec8c",
   "metadata": {},
   "outputs": [],
   "source": [
    "class FileDownloadFromApi(w.VBox):\n",
    "    def __init__(self, **kwargs):\n",
    "        self._init_form()\n",
    "        super().__init__(**kwargs)\n",
    "        self.children = [self.bn_download, self.output]\n",
    "\n",
    "    def _init_form(self):\n",
    "        self.output = w.Output()\n",
    "        self.bn_download = w.Button(**FILEDNLD_BUTTON_KWARGS)\n",
    "        self.bn_download.on_click(self.trigger_download)\n",
    "\n",
    "    def trigger_download(self, onchange):\n",
    "        print(\"DOWNLOAD\")\n",
    "        url = 'http://127.0.0.1:8000/download'\n",
    "        headers = {\n",
    "            'accept': 'application/json',\n",
    "        }\n",
    "        response = requests.get(url, headers=headers)\n",
    "        match = re.search(r'filename=\"(.+)\"', response.headers[\"content-disposition\"])\n",
    "        if match:\n",
    "            filename = match.group(1)\n",
    "        else:\n",
    "            raise ValueError(\"Filename not found.\")\n",
    "        content_b64 = base64.b64encode(response.content).decode()\n",
    "        trigger_download(content_b64, filename, self.output)"
   ]
  },
  {
   "cell_type": "code",
   "execution_count": 8,
   "id": "0d88b508-9f0a-4c4a-a956-21a5e57e5151",
   "metadata": {},
   "outputs": [
    {
     "data": {
      "application/vnd.jupyter.widget-view+json": {
       "model_id": "986cd1631f5e477b9721a0cc3738667a",
       "version_major": 2,
       "version_minor": 0
      },
      "text/plain": [
       "FileDownloadFromApi(children=(Button(icon='download', layout=Layout(height='25px', width='44px'), style=Button…"
      ]
     },
     "metadata": {},
     "output_type": "display_data"
    }
   ],
   "source": [
    "file_download = FileDownloadFromApi()\n",
    "display(file_download)"
   ]
  },
  {
   "cell_type": "code",
   "execution_count": null,
   "id": "13e3ea91-6693-4dec-8a6e-0f5bdb9fdff2",
   "metadata": {},
   "outputs": [],
   "source": []
  }
 ],
 "metadata": {
  "kernelspec": {
   "display_name": "Python 3 (ipykernel)",
   "language": "python",
   "name": "python3"
  },
  "language_info": {
   "codemirror_mode": {
    "name": "ipython",
    "version": 3
   },
   "file_extension": ".py",
   "mimetype": "text/x-python",
   "name": "python",
   "nbconvert_exporter": "python",
   "pygments_lexer": "ipython3",
   "version": "3.12.5"
  }
 },
 "nbformat": 4,
 "nbformat_minor": 5
}
