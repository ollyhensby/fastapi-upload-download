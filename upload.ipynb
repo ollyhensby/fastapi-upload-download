{
 "cells": [
  {
   "cell_type": "code",
   "execution_count": 1,
   "id": "467d5ab3-cc81-44f7-b383-b91aa6102d59",
   "metadata": {},
   "outputs": [],
   "source": [
    "import requests\n",
    "import pathlib\n",
    "import ipywidgets as w"
   ]
  },
  {
   "cell_type": "code",
   "execution_count": 19,
   "id": "c55b6df8-6b01-4852-842e-61310148a8c1",
   "metadata": {},
   "outputs": [],
   "source": [
    "class FileUploadToApi(w.FileUpload):\n",
    "    def __init__(self, **kwargs):\n",
    "        super().__init__(**kwargs)\n",
    "        self.multiple = False\n",
    "        self.observe(self.upload_selected_files)\n",
    "\n",
    "    def upload_selected_files(self, onchange):\n",
    "        if not onchange[\"new\"]:  # HOTFIX: For some reason value is changed twice?\n",
    "            for value in self.value:\n",
    "                self.upload_content(value)\n",
    "\n",
    "    def upload_content(self, value: dict):\n",
    "        url = 'http://127.0.0.1:8000/upload'\n",
    "        files = {'uploaded_file': (value[\"name\"], value[\"content\"], value[\"type\"])}\n",
    "        headers = {\n",
    "            'accept': 'application/json',\n",
    "        }\n",
    "        response = requests.post(url, headers=headers, files=files)\n",
    "        \n",
    "        print(response.json())"
   ]
  },
  {
   "cell_type": "code",
   "execution_count": 20,
   "id": "176eb475-2c8a-4f11-9c0d-5c84630e0a73",
   "metadata": {},
   "outputs": [],
   "source": [
    "file_upload = FileUploadToApi()"
   ]
  },
  {
   "cell_type": "code",
   "execution_count": 21,
   "id": "516e4dd9-ab2d-49e8-aa48-eedaa5da98c9",
   "metadata": {},
   "outputs": [
    {
     "data": {
      "application/vnd.jupyter.widget-view+json": {
       "model_id": "441200ac26d449888f80ac98fdaefb1d",
       "version_major": 2,
       "version_minor": 0
      },
      "text/plain": [
       "FileUploadToApi(value=(), description='Upload')"
      ]
     },
     "metadata": {},
     "output_type": "display_data"
    }
   ],
   "source": [
    "display(file_upload)"
   ]
  },
  {
   "cell_type": "code",
   "execution_count": null,
   "id": "fcfcc9bf-cc08-4d06-8f9b-4ffe0fc232b9",
   "metadata": {},
   "outputs": [],
   "source": []
  }
 ],
 "metadata": {
  "kernelspec": {
   "display_name": "Python 3 (ipykernel)",
   "language": "python",
   "name": "python3"
  },
  "language_info": {
   "codemirror_mode": {
    "name": "ipython",
    "version": 3
   },
   "file_extension": ".py",
   "mimetype": "text/x-python",
   "name": "python",
   "nbconvert_exporter": "python",
   "pygments_lexer": "ipython3",
   "version": "3.12.5"
  }
 },
 "nbformat": 4,
 "nbformat_minor": 5
}
